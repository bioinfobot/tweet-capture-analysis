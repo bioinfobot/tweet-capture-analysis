{
 "cells": [
  {
   "cell_type": "markdown",
   "metadata": {},
   "source": [
    "# Update_langs prototype \n",
    "\n",
    "## Motivation \n",
    "- Uses wikipedia as a source to obtain all known programming languages\n",
    "- extract HTML and parses it only extracting known programming languages \n",
    "- creating a text file that contains the name of the programing langauge and also its wiki link \n",
    "\n",
    "## Potential Problems\n",
    "- this data source is unsctruvture (ie. table or list) and changes to the structure may cause the scritp to break \n",
    "- in relations to the first problem, small change in the HTML code (directly or indirectly) can also break the script\n"
   ]
  },
  {
   "cell_type": "markdown",
   "metadata": {},
   "source": [
    "## imports "
   ]
  },
  {
   "cell_type": "code",
   "execution_count": 1,
   "metadata": {},
   "outputs": [],
   "source": [
    "import os\n",
    "import sys\n",
    "import requests\n",
    "from bs4 import BeautifulSoup"
   ]
  },
  {
   "cell_type": "markdown",
   "metadata": {},
   "source": [
    "## Functions "
   ]
  },
  {
   "cell_type": "code",
   "execution_count": null,
   "metadata": {},
   "outputs": [],
   "source": [
    "def get_html_source(link): \n",
    "    \"\"\" obtains the source page of a given link\n",
    "   \n",
    "\tArguemnts\n",
    "\t---------\n",
    "\tlink : str\n",
    "\t\tlink that directs to a webspage\n",
    "    \"\"\"\n",
    "\t# send requests \n",
    "\t# checj error code\n",
    "\t# -- if not successfull, raise error and show code \n",
    "\t# parse HTML and extract contents \n",
    "\t# return as full HTML source as a bytes? or str? \n",
    "\tpass\n",
    "\t\n",
    "\n",
    "def parse_langauge_list():\n",
    "    \"\"\" parses the HTML obtains from the wiki page and writes a file \n",
    "    containing the paired programing languge and its wiki link\"\"\"\n",
    "    # check source if it is from the language page\n",
    "    # -- raise a value error indcating that the HTML source is not from wikipedia \n",
    "    # compile into a python object (list of tuples) -> lagnauge, link\n",
    "\t# create a new file\n",
    "\t# for lang, link in list of tuple\n",
    "\t# -- write (lang, link)\n",
    "\tpass"
   ]
  },
  {
   "cell_type": "code",
   "execution_count": null,
   "metadata": {},
   "outputs": [],
   "source": []
  },
  {
   "cell_type": "markdown",
   "metadata": {},
   "source": [
    "## Main code below "
   ]
  },
  {
   "cell_type": "code",
   "execution_count": null,
   "metadata": {},
   "outputs": [],
   "source": []
  }
 ],
 "metadata": {
  "interpreter": {
   "hash": "ba57131a2bed339ebe238e28058f72fa2b78b7cf07c3e9aeb545746636527bd8"
  },
  "kernelspec": {
   "display_name": "Python 3.7.10 64-bit ('biobot': conda)",
   "name": "python3"
  },
  "language_info": {
   "codemirror_mode": {
    "name": "ipython",
    "version": 3
   },
   "file_extension": ".py",
   "mimetype": "text/x-python",
   "name": "python",
   "nbconvert_exporter": "python",
   "pygments_lexer": "ipython3",
   "version": "3.7.10"
  },
  "orig_nbformat": 4
 },
 "nbformat": 4,
 "nbformat_minor": 2
}
