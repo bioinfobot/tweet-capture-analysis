{
 "cells": [
  {
   "cell_type": "code",
   "execution_count": 15,
   "metadata": {},
   "outputs": [],
   "source": [
    "import os \n",
    "import json \n",
    "from datetime import datetime"
   ]
  },
  {
   "cell_type": "markdown",
   "metadata": {},
   "source": [
    "## Functions "
   ]
  },
  {
   "cell_type": "code",
   "execution_count": null,
   "metadata": {},
   "outputs": [],
   "source": []
  },
  {
   "cell_type": "markdown",
   "metadata": {},
   "source": [
    "## Main code "
   ]
  },
  {
   "cell_type": "code",
   "execution_count": 16,
   "metadata": {},
   "outputs": [],
   "source": [
    "# parse json file\n",
    "json_file = \"./2017-05.json\"\n",
    "with open(json_file, \"r\") as infile:\n",
    "\tcontents = infile.read()\n",
    "\n",
    "data = json.loads(contents)\n",
    "\n",
    "# selecting the important sections and formating it \n",
    "top_languages = data[\"PopularLanguages\"]\n",
    "hash_freq = data[\"HashFreq\"]\n",
    "top_words = data[\"TopWords\"]\n",
    "total_words = data[\"TotalWords\"]\n",
    "img_url = data[\"ImageURL\"]\n",
    "tweet_count = data[\"TweetCount\"]\n",
    "user_freq = data[\"UsersFreq\"]\n",
    "unique_words = data[\"UniqueWords\"]\n",
    "\n",
    "# creating a writer class "
   ]
  },
  {
   "cell_type": "code",
   "execution_count": 65,
   "metadata": {},
   "outputs": [],
   "source": [
    "## writing out the data into a file \n",
    "name = os.path.splitext(os.path.basename(json_file))[0]\n",
    "md_name = \"{}.md\".format(name)\n",
    "date = datetime.now().strftime(\"%Y-%m-%d\")\n",
    "# creating a file and appending data into the file \n",
    "with open(md_name, \"w\") as mdfile:\n",
    "\tmdfile.write(\"+++\\n\")\n",
    "\tmdfile.write('title = \"{} data\"\\n'.format(name))\n",
    "\tmdfile.write('description = \"Overall twitter data of month {}\"\\n'.format(name))\n",
    "\tmdfile.write('date = {}\\n'.format(date))\n",
    "\tmdfile.write('comment = true\\n')\n",
    "\tmdfile.write('draft = false\\n')\n",
    "\tmdfile.write('diagram = false\\n')\n",
    "\tmdfile.write('categories = [\"Markdown\"]\\n') \n",
    "\tmdfile.write(\"+++\\n\")\n",
    "\tmdfile.write(\"\\n\")\n",
    "\n",
    "\t# add image in json file \n",
    "\t# NOTE: look at MD tutorial on how to add image \n",
    "\n",
    "\t# add Summary data to\n",
    "\t# -- total_words in data\n",
    "\t# -- total_tweets in data \n",
    "\t# -- total_unique_words in data \n",
    "\tmonth = datetime.now().strftime(\"%Y-%m\")\n",
    "\tmdfile.write(\"## Summary\\n\")\n",
    "\tsummary_msg = \"Analyical results for {} based on {} tweets consisting of {} total words with {} unique words\\n\".format(month, \n",
    "                                                                                                                      tweet_count, \n",
    "                                                                                                                      total_words,\n",
    "                                                                                                                      unique_words)\n",
    "\n",
    "\tmdfile.write(\"{}\\n\".format(summary_msg))\n",
    "\tmdfile.write(\"\\n\")\n",
    "\n",
    "\t# top 20 words\n",
    "\tmdfile.write(\"## Top 20 words\\n\")\n",
    "\ttop_words_string = \", \".join([\"{}({})\".format(word_info[0], word_info[1]) for word_info in top_words])\n",
    "\tmdfile.write(\"{}\\n\".format(top_words_string))\n",
    "\tmdfile.write(\"\\n\")\n",
    "\n",
    "\t# top 20 tweeters \n",
    "\tmdfile.write(\"## Top 20 tweeters\\n\")\n",
    "\tuser_string = \", \".join([\"[@{0}](https://twitter.com/{0})({1})\".format(user_info[0], user_info[1]) for user_info in user_freq])\n",
    "\tmdfile.write(\"{}\\n\".format(user_string))\n",
    "\tmdfile.write(\"\\n\")\n",
    "\n",
    "\t# top 20 hastags \n",
    "\tmdfile.write(\"## top 20 hastags\\n\")\n",
    "\thash_string = \" \".join([\"[{}](https://twitter.com/hashtag/{})({})\".format(hash_info[0], hash_info[0].replace(\"#\", \"\"), hash_info[1]) for hash_info in hash_freq])\n",
    "\tmdfile.write(\"{}\\n\".format(hash_string))\n",
    "\tmdfile.write(\"\\n\")\n",
    " \n",
    "\t# Popular lagnauges and framework\n",
    "\tmdfile.write(\"## Popular lagnauges\\n\")\n",
    "\tlang_string = \" \".join([\"{}({})\".format(lang_info[0], lang_info[1]) for lang_info in top_languages])\n",
    "\tmdfile.write(\"{}\\n\".format(lang_string))\n",
    "\n",
    "\t\n",
    "\n",
    "\n"
   ]
  },
  {
   "cell_type": "code",
   "execution_count": 17,
   "metadata": {},
   "outputs": [
    {
     "data": {
      "text/plain": [
       "'https://bioinfobot.github.io/images/2017-05.png'"
      ]
     },
     "execution_count": 17,
     "metadata": {},
     "output_type": "execute_result"
    }
   ],
   "source": [
    "img_url"
   ]
  },
  {
   "cell_type": "code",
   "execution_count": 59,
   "metadata": {},
   "outputs": [
    {
     "data": {
      "text/plain": [
       "'Python(39) Golang(9) R(7) Bioconductor(4) Haskell(4) JavaScript(1)'"
      ]
     },
     "execution_count": 59,
     "metadata": {},
     "output_type": "execute_result"
    }
   ],
   "source": [
    "lang_string"
   ]
  },
  {
   "cell_type": "code",
   "execution_count": 73,
   "metadata": {},
   "outputs": [
    {
     "data": {
      "text/plain": [
       "'/Users/erikserrano/Projects'"
      ]
     },
     "execution_count": 73,
     "metadata": {},
     "output_type": "execute_result"
    }
   ],
   "source": [
    "os.path.dirname(\"/Users/erikserrano/Projects/\")"
   ]
  },
  {
   "cell_type": "code",
   "execution_count": 74,
   "metadata": {},
   "outputs": [
    {
     "data": {
      "text/plain": [
       "'/Users/erikserrano'"
      ]
     },
     "execution_count": 74,
     "metadata": {},
     "output_type": "execute_result"
    }
   ],
   "source": [
    "os.path.expanduser('~')"
   ]
  },
  {
   "cell_type": "code",
   "execution_count": 18,
   "metadata": {},
   "outputs": [
    {
     "data": {
      "text/plain": [
       "'2021-07.json'"
      ]
     },
     "execution_count": 18,
     "metadata": {},
     "output_type": "execute_result"
    }
   ],
   "source": [
    "os.path.basename(\"../data/2021-07.json\")"
   ]
  },
  {
   "cell_type": "code",
   "execution_count": 77,
   "metadata": {},
   "outputs": [
    {
     "data": {
      "text/plain": [
       "'/Users/erikserrano/Projects/bioinfobot/tweet-capture-analysis/protoypes'"
      ]
     },
     "execution_count": 77,
     "metadata": {},
     "output_type": "execute_result"
    }
   ],
   "source": [
    "os.getcwd()"
   ]
  },
  {
   "cell_type": "code",
   "execution_count": 1,
   "metadata": {},
   "outputs": [
    {
     "data": {
      "text/plain": [
       "'/Users/erikserrano/Projects/bioinfobot/tweet-capture-analysis/protoypes/bioinfobot/tweet-capture-analysis/protoypes'"
      ]
     },
     "execution_count": 1,
     "metadata": {},
     "output_type": "execute_result"
    }
   ],
   "source": [
    "os.path.abspath(\"bioinfobot/tweet-capture-analysis/protoypes\")"
   ]
  },
  {
   "cell_type": "code",
   "execution_count": 3,
   "metadata": {},
   "outputs": [],
   "source": [
    "import sys\n",
    "sys.path.append(\"..\")\n",
    "from src.biobotpaths.paths import BioBotEndPoints\n",
    "#from src.biobotpaths.paths import BioBotEndPoints"
   ]
  },
  {
   "cell_type": "code",
   "execution_count": 5,
   "metadata": {},
   "outputs": [],
   "source": [
    "endpoints = BioBotEndPoints()"
   ]
  },
  {
   "cell_type": "code",
   "execution_count": 6,
   "metadata": {},
   "outputs": [
    {
     "data": {
      "text/plain": [
       "'website-code/Bioinfobot/content/en'"
      ]
     },
     "execution_count": 6,
     "metadata": {},
     "output_type": "execute_result"
    }
   ],
   "source": [
    "endpoints.contents"
   ]
  },
  {
   "cell_type": "code",
   "execution_count": 11,
   "metadata": {},
   "outputs": [],
   "source": [
    "os.mkdir(\"temp_dir\")\n",
    "with open(\"temp_dir/hello.txt\", \"w\") as testfile:\n",
    "    testfile.write(\"hello\")"
   ]
  },
  {
   "cell_type": "code",
   "execution_count": 12,
   "metadata": {},
   "outputs": [
    {
     "data": {
      "text/plain": [
       "'dir/hello.md'"
      ]
     },
     "execution_count": 12,
     "metadata": {},
     "output_type": "execute_result"
    }
   ],
   "source": [
    "fname = \"dir\"\n",
    "n = \"hello.md\"\n",
    "os.path.join(fname,n)"
   ]
  },
  {
   "cell_type": "code",
   "execution_count": 19,
   "metadata": {},
   "outputs": [
    {
     "data": {
      "text/plain": [
       "'2021-07.json'"
      ]
     },
     "execution_count": 19,
     "metadata": {},
     "output_type": "execute_result"
    }
   ],
   "source": [
    "os.path.basename(\"../data/2021-07.json\")"
   ]
  },
  {
   "cell_type": "markdown",
   "metadata": {},
   "source": [
    "# Version 2\n",
    "# -- implementing cloud image into the .md file "
   ]
  },
  {
   "cell_type": "code",
   "execution_count": 2,
   "metadata": {},
   "outputs": [],
   "source": [
    "import os \n",
    "import json \n",
    "from datetime import datetime"
   ]
  },
  {
   "cell_type": "code",
   "execution_count": 21,
   "metadata": {},
   "outputs": [],
   "source": [
    "def to_markdown(json_file):\n",
    "    \"\"\" Reads in JSON file and converts it into markdown file\"\"\"\n",
    "\n",
    "    \n",
    "    # parse json file\n",
    "    print(\"Compiling {}\".format(os.path.basename(json_file)))\n",
    "    with open(json_file, \"r\") as infile:\n",
    "        contents = infile.read()\n",
    "    \n",
    "    data = json.loads(contents)\n",
    "\n",
    "    # selecting the important sections and formating it \n",
    "    top_languages = data[\"PopularLanguages\"]\n",
    "    hash_freq = data[\"HashFreq\"]\n",
    "    top_words = data[\"TopWords\"]\n",
    "    total_words = data[\"TotalWords\"]\n",
    "    img_url = data[\"ImageURL\"]\n",
    "    tweet_count = data[\"TweetCount\"]\n",
    "    user_freq = data[\"UsersFreq\"]\n",
    "    unique_words = data[\"UniqueWords\"]\n",
    "\n",
    "    if not os.path.exists(\"_temp_md_dir\"):\n",
    "        os.mkdir(\"_temp_md_dir\")\n",
    "\n",
    "    name = os.path.splitext(os.path.basename(json_file))[0]\n",
    "    fpath = \"_temp_md_dir/{}.md\".format(name)\n",
    "    date = datetime.now().strftime(\"%Y-%m-%d\")\n",
    "\n",
    "    # creating a file and appending data into the file \n",
    "    with open(fpath, \"w\") as mdfile:\n",
    "        mdfile.write(\"+++\\n\")\n",
    "        mdfile.write('title = \"{} data\"\\n'.format(name))\n",
    "        mdfile.write('description = \"Overall twitter data of month {}\"\\n'.format(name))\n",
    "        mdfile.write('date = {}\\n'.format(date))\n",
    "        mdfile.write('comment = true\\n')\n",
    "        mdfile.write('draft = false\\n')\n",
    "        mdfile.write('diagram = false\\n')\n",
    "        mdfile.write('categories = [\"Markdown\"]\\n') \n",
    "        mdfile.write(\"+++\\n\")\n",
    "        mdfile.write(\"\\n\")\n",
    "        #images\n",
    "        # add image in json file \n",
    "        # NOTE: look at MD tutorial on how to add image \n",
    "\n",
    "        # add Summary data to\n",
    "        # -- total_words in data\n",
    "        # -- total_tweets in data \n",
    "        # -- total_unique_words in data \n",
    "        month = datetime.now().strftime(\"%Y-%m\")\n",
    "        mdfile.write(\"## Summary\\n\")\n",
    "        img_tag = os.path.splitext(os.path.basename(json_path))[0]\n",
    "        img_path = \"/images/wordcloud/{}.png\".format(img_tag)\n",
    "        mdfile.write('![Summary Image]({} \"Summary Image\")\\n'.format(img_path))\n",
    "        summary_msg = \"Analyical results for {} based on {} tweets consisting of {} total words with {} unique words\\n\".format(month, \n",
    "                                                                                                                        tweet_count, \n",
    "                                                                                                                        total_words,\n",
    "                                                                                                                        unique_words)\n",
    "\n",
    "        mdfile.write(\"{}\\n\".format(summary_msg))\n",
    "        mdfile.write(\"\\n\")\n",
    "\n",
    "        # top 20 words\n",
    "        mdfile.write(\"## Top 20 words\\n\")\n",
    "        top_words_string = \", \".join([\"{}({})\".format(word_info[0], word_info[1]) for word_info in top_words])\n",
    "        mdfile.write(\"{}\\n\".format(top_words_string))\n",
    "        mdfile.write(\"\\n\")\n",
    "\n",
    "        # top 20 tweeters \n",
    "        mdfile.write(\"## Top 20 tweeters\\n\")\n",
    "        user_string = \", \".join([\"[@{0}](https://twitter.com/{0})({1})\".format(user_info[0], user_info[1]) for user_info in user_freq])\n",
    "        mdfile.write(\"{}\\n\".format(user_string))\n",
    "        mdfile.write(\"\\n\")\n",
    "\n",
    "        # top 20 hastags \n",
    "        mdfile.write(\"## top 20 hastags\\n\")\n",
    "        hash_string = \" \".join([\"[{}](https://twitter.com/hashtag/{})({})\".format(hash_info[0], hash_info[0].replace(\"#\", \"\"), hash_info[1]) for hash_info in hash_freq])\n",
    "        mdfile.write(\"{}\\n\".format(hash_string))\n",
    "        mdfile.write(\"\\n\")\n",
    "    \n",
    "        # Popular lagnauges and framework\n",
    "        mdfile.write(\"## Popular lagnauges\\n\")\n",
    "        lang_string = \" \".join([\"{}({})\".format(lang_info[0], lang_info[1]) for lang_info in top_languages])\n",
    "        mdfile.write(\"{}\\n\".format(lang_string))\n",
    "\n",
    "    \n",
    "\n",
    "\n"
   ]
  },
  {
   "cell_type": "code",
   "execution_count": 22,
   "metadata": {},
   "outputs": [
    {
     "name": "stdout",
     "output_type": "stream",
     "text": [
      "Compiling 2017-05.json\n"
     ]
    }
   ],
   "source": [
    "json_path = \"/Users/erikserrano/Projects/bioinfobot/tweet-capture-analysis/protoypes/json_to_md/2017-05.json\"\n",
    "to_markdown(json_path)"
   ]
  },
  {
   "cell_type": "code",
   "execution_count": 25,
   "metadata": {},
   "outputs": [
    {
     "data": {
      "text/plain": [
       "'/Users/erikserrano/Projects/bioinfobot/website-code/Bioinfobot/content/en/posts/2017-05.md'"
      ]
     },
     "execution_count": 25,
     "metadata": {},
     "output_type": "execute_result"
    }
   ],
   "source": [
    "import shutil\n",
    "shutil.move(\"/Users/erikserrano/Projects/bioinfobot/tweet-capture-analysis/protoypes/json_to_md/_temp_md_dir/2017-05.md\", \"/Users/erikserrano/Projects/bioinfobot/website-code/Bioinfobot/content/en/posts\")"
   ]
  },
  {
   "cell_type": "code",
   "execution_count": 24,
   "metadata": {},
   "outputs": [
    {
     "data": {
      "text/plain": [
       "'2017-05'"
      ]
     },
     "execution_count": 24,
     "metadata": {},
     "output_type": "execute_result"
    }
   ],
   "source": [
    "os.path.splitext(os.path.basename(json_path))[0]"
   ]
  },
  {
   "cell_type": "code",
   "execution_count": null,
   "metadata": {},
   "outputs": [],
   "source": []
  }
 ],
 "metadata": {
  "interpreter": {
   "hash": "ba57131a2bed339ebe238e28058f72fa2b78b7cf07c3e9aeb545746636527bd8"
  },
  "kernelspec": {
   "display_name": "Python 3.7.10 64-bit ('biobot': conda)",
   "name": "python3"
  },
  "language_info": {
   "codemirror_mode": {
    "name": "ipython",
    "version": 3
   },
   "file_extension": ".py",
   "mimetype": "text/x-python",
   "name": "python",
   "nbconvert_exporter": "python",
   "pygments_lexer": "ipython3",
   "version": "3.7.10"
  },
  "orig_nbformat": 4
 },
 "nbformat": 4,
 "nbformat_minor": 2
}
