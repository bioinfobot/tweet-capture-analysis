{
 "cells": [
  {
   "cell_type": "code",
   "execution_count": 1,
   "metadata": {},
   "outputs": [],
   "source": [
    "import os \n",
    "import sys\n",
    "import glob\n",
    "\n",
    "# bioinfobot imports\n",
    "sys.path.append(\"../../\")\n",
    "from bioinfobot.structs.paths import TweetAnalysisPaths"
   ]
  },
  {
   "cell_type": "code",
   "execution_count": 2,
   "metadata": {},
   "outputs": [],
   "source": [
    "p = TweetAnalysisPaths()"
   ]
  },
  {
   "cell_type": "markdown",
   "metadata": {},
   "source": [
    "## Module: common.common.py\n",
    "- This contains all the function that will be in the common.py module"
   ]
  },
  {
   "cell_type": "code",
   "execution_count": 5,
   "metadata": {},
   "outputs": [],
   "source": [
    "def get_latest_tweet_data():\n",
    "    \"\"\"Obtains the latest tweet data collected\"\"\"\n",
    "    # loading tweet analysis path directories \n",
    "    path = TweetAnalysisPaths()\n",
    "    \n",
    "    # getting latest year directory path\n",
    "    year_dirs = glob.glob(\"{}/*\".format(path.tweet_data))\n",
    "    latest_year = max([int(year.split(\"/\")[-1]) for year in year_dirs])\n",
    "    latest_year_path = \"{}/{}\".format(path.tweet_data, latest_year)\n",
    "\n",
    "    # getting the latest tweet data file\n",
    "    month_files = glob.glob(\"{}/*\".format(latest_year_path))\n",
    "    latest_data_file = max([int(os.path.basename(os.path.splitext(month))[-1]) for month in month_files])\n",
    "    latest_data_file = \"{}/{}.tsv\".format(latest_year_path, latest_data_file)\n",
    "\n",
    "    return latest_data_file"
   ]
  },
  {
   "cell_type": "markdown",
   "metadata": {},
   "source": [
    "## Module: bioinfobot.analysis.tweet_analysis.py \n",
    "- Contains functions that will be found in the tweet_analysis module"
   ]
  },
  {
   "cell_type": "code",
   "execution_count": null,
   "metadata": {},
   "outputs": [],
   "source": [
    "kkk"
   ]
  },
  {
   "cell_type": "markdown",
   "metadata": {},
   "source": [
    "## Testing code below "
   ]
  },
  {
   "cell_type": "code",
   "execution_count": null,
   "metadata": {},
   "outputs": [],
   "source": []
  }
 ],
 "metadata": {
  "interpreter": {
   "hash": "3328de6c7a2c749493aa5f0f5615f748900e17151528f5cc9b49de92202438dd"
  },
  "kernelspec": {
   "display_name": "Python 3.10.2 ('biotweetbot')",
   "language": "python",
   "name": "python3"
  },
  "language_info": {
   "codemirror_mode": {
    "name": "ipython",
    "version": 3
   },
   "file_extension": ".py",
   "mimetype": "text/x-python",
   "name": "python",
   "nbconvert_exporter": "python",
   "pygments_lexer": "ipython3",
   "version": "3.10.2"
  },
  "orig_nbformat": 4
 },
 "nbformat": 4,
 "nbformat_minor": 2
}
